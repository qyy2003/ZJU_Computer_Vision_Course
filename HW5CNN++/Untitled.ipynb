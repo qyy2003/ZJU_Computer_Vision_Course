{
 "cells": [
  {
   "cell_type": "code",
   "execution_count": 18,
   "id": "7ad5f6db-3d9d-4929-994f-b7874d632eef",
   "metadata": {},
   "outputs": [
    {
     "name": "stdout",
     "output_type": "stream",
     "text": [
      "1618\n",
      "{nan: 0, 'Normal': 1, 'Ghost': 2, 'Steel': 3, 'Flying': 4, 'Dark': 5, 'Ice': 6, 'Rock': 7, 'Water': 8, 'Poison': 9, 'Dragon': 10, 'Bug': 11, 'Grass': 12, 'Fire': 13, 'Psychic': 14, 'Ground': 15, 'Fairy': 16, 'Fighting': 17, 'Electric': 18}\n",
      "0\n",
      "{'bulbasaur': [12, 9], 'ivysaur': [12, 9], 'venusaur': [12, 9], 'charmander': [13, 0], 'charmeleon': [13, 0], 'charizard': [13, 4], 'squirtle': [8, 0], 'wartortle': [8, 0], 'blastoise': [8, 0], 'caterpie': [11, 0], 'metapod': [11, 0], 'butterfree': [11, 4], 'weedle': [11, 9], 'kakuna': [11, 9], 'beedrill': [11, 9], 'pidgey': [1, 4], 'pidgeotto': [1, 4], 'pidgeot': [1, 4], 'rattata': [1, 0], 'raticate': [1, 0], 'spearow': [1, 4], 'fearow': [1, 4], 'ekans': [9, 0], 'arbok': [9, 0], 'pikachu': [18, 0], 'raichu': [18, 0], 'sandshrew': [15, 0], 'sandslash': [15, 0], 'nidoran-f': [9, 0], 'nidorina': [9, 0], 'nidoqueen': [9, 15], 'nidoran-m': [9, 0], 'nidorino': [9, 0], 'nidoking': [9, 15], 'clefairy': [16, 0], 'clefable': [16, 0], 'vulpix': [13, 0], 'ninetales': [13, 0], 'jigglypuff': [1, 16], 'wigglytuff': [1, 16], 'zubat': [9, 4], 'golbat': [9, 4], 'oddish': [12, 9], 'gloom': [12, 9], 'vileplume': [12, 9], 'paras': [11, 12], 'parasect': [11, 12], 'venonat': [11, 9], 'venomoth': [11, 9], 'diglett': [15, 0], 'dugtrio': [15, 0], 'meowth': [1, 0], 'persian': [1, 0], 'psyduck': [8, 0], 'golduck': [8, 0], 'mankey': [17, 0], 'primeape': [17, 0], 'growlithe': [13, 0], 'arcanine': [13, 0], 'poliwag': [8, 0], 'poliwhirl': [8, 0], 'poliwrath': [8, 17], 'abra': [14, 0], 'kadabra': [14, 0], 'alakazam': [14, 0], 'machop': [17, 0], 'machoke': [17, 0], 'machamp': [17, 0], 'bellsprout': [12, 9], 'weepinbell': [12, 9], 'victreebel': [12, 9], 'tentacool': [8, 9], 'tentacruel': [8, 9], 'geodude': [7, 15], 'graveler': [7, 15], 'golem': [7, 15], 'ponyta': [13, 0], 'rapidash': [13, 0], 'slowpoke': [8, 14], 'slowbro': [8, 14], 'magnemite': [18, 3], 'magneton': [18, 3], 'farfetchd': [1, 4], 'doduo': [1, 4], 'dodrio': [1, 4], 'seel': [8, 0], 'dewgong': [8, 6], 'grimer': [9, 0], 'muk': [9, 0], 'shellder': [8, 0], 'cloyster': [8, 6], 'gastly': [2, 9], 'haunter': [2, 9], 'gengar': [2, 9], 'onix': [7, 15], 'drowzee': [14, 0], 'hypno': [14, 0], 'krabby': [8, 0], 'kingler': [8, 0], 'voltorb': [18, 0], 'electrode': [18, 0], 'exeggcute': [12, 14], 'exeggutor': [12, 14], 'cubone': [15, 0], 'marowak': [15, 0], 'hitmonlee': [17, 0], 'hitmonchan': [17, 0], 'lickitung': [1, 0], 'koffing': [9, 0], 'weezing': [9, 0], 'rhyhorn': [15, 7], 'rhydon': [15, 7], 'chansey': [1, 0], 'tangela': [12, 0], 'kangaskhan': [1, 0], 'horsea': [8, 0], 'seadra': [8, 0], 'goldeen': [8, 0], 'seaking': [8, 0], 'staryu': [8, 0], 'starmie': [8, 14], 'mr-mime': [14, 16], 'scyther': [11, 4], 'jynx': [6, 14], 'electabuzz': [18, 0], 'magmar': [13, 0], 'pinsir': [11, 0], 'tauros': [1, 0], 'magikarp': [8, 0], 'gyarados': [8, 4], 'lapras': [8, 6], 'ditto': [1, 0], 'eevee': [1, 0], 'vaporeon': [8, 0], 'jolteon': [18, 0], 'flareon': [13, 0], 'porygon': [1, 0], 'omanyte': [7, 8], 'omastar': [7, 8], 'kabuto': [7, 8], 'kabutops': [7, 8], 'aerodactyl': [7, 4], 'snorlax': [1, 0], 'articuno': [6, 4], 'zapdos': [18, 4], 'moltres': [13, 4], 'dratini': [10, 0], 'dragonair': [10, 0], 'dragonite': [10, 4], 'mewtwo': [14, 0], 'mew': [14, 0], 'chikorita': [12, 0], 'bayleef': [12, 0], 'meganium': [12, 0], 'cyndaquil': [13, 0], 'quilava': [13, 0], 'typhlosion': [13, 0], 'totodile': [8, 0], 'croconaw': [8, 0], 'feraligatr': [8, 0], 'sentret': [1, 0], 'furret': [1, 0], 'hoothoot': [1, 4], 'noctowl': [1, 4], 'ledyba': [11, 4], 'ledian': [11, 4], 'spinarak': [11, 9], 'ariados': [11, 9], 'crobat': [9, 4], 'chinchou': [8, 18], 'lanturn': [8, 18], 'pichu': [18, 0], 'cleffa': [16, 0], 'igglybuff': [1, 16], 'togepi': [16, 0], 'togetic': [16, 4], 'natu': [14, 4], 'xatu': [14, 4], 'mareep': [18, 0], 'flaaffy': [18, 0], 'ampharos': [18, 0], 'bellossom': [12, 0], 'marill': [8, 16], 'azumarill': [8, 16], 'sudowoodo': [7, 0], 'politoed': [8, 0], 'hoppip': [12, 4], 'skiploom': [12, 4], 'jumpluff': [12, 4], 'aipom': [1, 0], 'sunkern': [12, 0], 'sunflora': [12, 0], 'yanma': [11, 4], 'wooper': [8, 15], 'quagsire': [8, 15], 'espeon': [14, 0], 'umbreon': [5, 0], 'murkrow': [5, 4], 'slowking': [8, 14], 'misdreavus': [2, 0], 'unown': [14, 0], 'wobbuffet': [14, 0], 'girafarig': [1, 14], 'pineco': [11, 0], 'forretress': [11, 3], 'dunsparce': [1, 0], 'gligar': [15, 4], 'steelix': [3, 15], 'snubbull': [16, 0], 'granbull': [16, 0], 'qwilfish': [8, 9], 'scizor': [11, 3], 'shuckle': [11, 7], 'heracross': [11, 17], 'sneasel': [5, 6], 'teddiursa': [1, 0], 'ursaring': [1, 0], 'slugma': [13, 0], 'magcargo': [13, 7], 'swinub': [6, 15], 'piloswine': [6, 15], 'corsola': [8, 7], 'remoraid': [8, 0], 'octillery': [8, 0], 'delibird': [6, 4], 'mantine': [8, 4], 'skarmory': [3, 4], 'houndour': [5, 13], 'houndoom': [5, 13], 'kingdra': [8, 10], 'phanpy': [15, 0], 'donphan': [15, 0], 'porygon2': [1, 0], 'stantler': [1, 0], 'smeargle': [1, 0], 'tyrogue': [17, 0], 'hitmontop': [17, 0], 'smoochum': [6, 14], 'elekid': [18, 0], 'magby': [13, 0], 'miltank': [1, 0], 'blissey': [1, 0], 'raikou': [18, 0], 'entei': [13, 0], 'suicune': [8, 0], 'larvitar': [7, 15], 'pupitar': [7, 15], 'tyranitar': [7, 5], 'lugia': [14, 4], 'ho-oh': [13, 4], 'celebi': [14, 12], 'treecko': [12, 0], 'grovyle': [12, 0], 'sceptile': [12, 0], 'torchic': [13, 0], 'combusken': [13, 17], 'blaziken': [13, 17], 'mudkip': [8, 0], 'marshtomp': [8, 15], 'swampert': [8, 15], 'poochyena': [5, 0], 'mightyena': [5, 0], 'zigzagoon': [1, 0], 'linoone': [1, 0], 'wurmple': [11, 0], 'silcoon': [11, 0], 'beautifly': [11, 4], 'cascoon': [11, 0], 'dustox': [11, 9], 'lotad': [8, 12], 'lombre': [8, 12], 'ludicolo': [8, 12], 'seedot': [12, 0], 'nuzleaf': [12, 5], 'shiftry': [12, 5], 'taillow': [1, 4], 'swellow': [1, 4], 'wingull': [8, 4], 'pelipper': [8, 4], 'ralts': [14, 16], 'kirlia': [14, 16], 'gardevoir': [14, 16], 'surskit': [11, 8], 'masquerain': [11, 4], 'shroomish': [12, 0], 'breloom': [12, 17], 'slakoth': [1, 0], 'vigoroth': [1, 0], 'slaking': [1, 0], 'nincada': [11, 15], 'ninjask': [11, 4], 'shedinja': [11, 2], 'whismur': [1, 0], 'loudred': [1, 0], 'exploud': [1, 0], 'makuhita': [17, 0], 'hariyama': [17, 0], 'azurill': [1, 16], 'nosepass': [7, 0], 'skitty': [1, 0], 'delcatty': [1, 0], 'sableye': [5, 2], 'mawile': [3, 16], 'aron': [3, 7], 'lairon': [3, 7], 'aggron': [3, 7], 'meditite': [17, 14], 'medicham': [17, 14], 'electrike': [18, 0], 'manectric': [18, 0], 'plusle': [18, 0], 'minun': [18, 0], 'volbeat': [11, 0], 'illumise': [11, 0], 'roselia': [12, 9], 'gulpin': [9, 0], 'swalot': [9, 0], 'carvanha': [8, 5], 'sharpedo': [8, 5], 'wailmer': [8, 0], 'wailord': [8, 0], 'numel': [13, 15], 'camerupt': [13, 15], 'torkoal': [13, 0], 'spoink': [14, 0], 'grumpig': [14, 0], 'spinda': [1, 0], 'trapinch': [15, 0], 'vibrava': [15, 10], 'flygon': [15, 10], 'cacnea': [12, 0], 'cacturne': [12, 5], 'swablu': [1, 4], 'altaria': [10, 4], 'zangoose': [1, 0], 'seviper': [9, 0], 'lunatone': [7, 14], 'solrock': [7, 14], 'barboach': [8, 15], 'whiscash': [8, 15], 'corphish': [8, 0], 'crawdaunt': [8, 5], 'baltoy': [15, 14], 'claydol': [15, 14], 'lileep': [7, 12], 'cradily': [7, 12], 'anorith': [7, 11], 'armaldo': [7, 11], 'feebas': [8, 0], 'milotic': [8, 0], 'castform': [1, 0], 'kecleon': [1, 0], 'shuppet': [2, 0], 'banette': [2, 0], 'duskull': [2, 0], 'dusclops': [2, 0], 'tropius': [12, 4], 'chimecho': [14, 0], 'absol': [5, 0], 'wynaut': [14, 0], 'snorunt': [6, 0], 'glalie': [6, 0], 'spheal': [6, 8], 'sealeo': [6, 8], 'walrein': [6, 8], 'clamperl': [8, 0], 'huntail': [8, 0], 'gorebyss': [8, 0], 'relicanth': [8, 7], 'luvdisc': [8, 0], 'bagon': [10, 0], 'shelgon': [10, 0], 'salamence': [10, 4], 'beldum': [3, 14], 'metang': [3, 14], 'metagross': [3, 14], 'regirock': [7, 0], 'regice': [6, 0], 'registeel': [3, 0], 'latias': [10, 14], 'latios': [10, 14], 'kyogre': [8, 0], 'groudon': [15, 0], 'rayquaza': [10, 4], 'jirachi': [3, 14], 'deoxys-normal': [14, 0], 'turtwig': [12, 0], 'grotle': [12, 0], 'torterra': [12, 15], 'chimchar': [13, 0], 'monferno': [13, 17], 'infernape': [13, 17], 'piplup': [8, 0], 'prinplup': [8, 0], 'empoleon': [8, 3], 'starly': [1, 4], 'staravia': [1, 4], 'staraptor': [1, 4], 'bidoof': [1, 0], 'bibarel': [1, 8], 'kricketot': [11, 0], 'kricketune': [11, 0], 'shinx': [18, 0], 'luxio': [18, 0], 'luxray': [18, 0], 'budew': [12, 9], 'roserade': [12, 9], 'cranidos': [7, 0], 'rampardos': [7, 0], 'shieldon': [7, 3], 'bastiodon': [7, 3], 'burmy': [11, 0], 'wormadam-plant': [11, 12], 'mothim': [11, 4], 'combee': [11, 4], 'vespiquen': [11, 4], 'pachirisu': [18, 0], 'buizel': [8, 0], 'floatzel': [8, 0], 'cherubi': [12, 0], 'cherrim': [12, 0], 'shellos': [8, 0], 'gastrodon': [8, 15], 'ambipom': [1, 0], 'drifloon': [2, 4], 'drifblim': [2, 4], 'buneary': [1, 0], 'lopunny': [1, 0], 'mismagius': [2, 0], 'honchkrow': [5, 4], 'glameow': [1, 0], 'purugly': [1, 0], 'chingling': [14, 0], 'stunky': [9, 5], 'skuntank': [9, 5], 'bronzor': [3, 14], 'bronzong': [3, 14], 'bonsly': [7, 0], 'mime-jr': [14, 16], 'happiny': [1, 0], 'chatot': [1, 4], 'spiritomb': [2, 5], 'gible': [10, 15], 'gabite': [10, 15], 'garchomp': [10, 15], 'munchlax': [1, 0], 'riolu': [17, 0], 'lucario': [17, 3], 'hippopotas': [15, 0], 'hippowdon': [15, 0], 'skorupi': [9, 11], 'drapion': [9, 5], 'croagunk': [9, 17], 'toxicroak': [9, 17], 'carnivine': [12, 0], 'finneon': [8, 0], 'lumineon': [8, 0], 'mantyke': [8, 4], 'snover': [12, 6], 'abomasnow': [12, 6], 'weavile': [5, 6], 'magnezone': [18, 3], 'lickilicky': [1, 0], 'rhyperior': [15, 7], 'tangrowth': [12, 0], 'electivire': [18, 0], 'magmortar': [13, 0], 'togekiss': [16, 4], 'yanmega': [11, 4], 'leafeon': [12, 0], 'glaceon': [6, 0], 'gliscor': [15, 4], 'mamoswine': [6, 15], 'porygon-z': [1, 0], 'gallade': [14, 17], 'probopass': [7, 3], 'dusknoir': [2, 0], 'froslass': [6, 2], 'rotom': [18, 2], 'uxie': [14, 0], 'mesprit': [14, 0], 'azelf': [14, 0], 'dialga': [3, 10], 'palkia': [8, 10], 'heatran': [13, 3], 'regigigas': [1, 0], 'giratina-altered': [2, 10], 'cresselia': [14, 0], 'phione': [8, 0], 'manaphy': [8, 0], 'darkrai': [5, 0], 'shaymin-land': [12, 0], 'arceus': [1, 0], 'victini': [14, 13], 'snivy': [12, 0], 'servine': [12, 0], 'serperior': [12, 0], 'tepig': [13, 0], 'pignite': [13, 17], 'emboar': [13, 17], 'oshawott': [8, 0], 'dewott': [8, 0], 'samurott': [8, 0], 'patrat': [1, 0], 'watchog': [1, 0], 'lillipup': [1, 0], 'herdier': [1, 0], 'stoutland': [1, 0], 'purrloin': [5, 0], 'liepard': [5, 0], 'pansage': [12, 0], 'simisage': [12, 0], 'pansear': [13, 0], 'simisear': [13, 0], 'panpour': [8, 0], 'simipour': [8, 0], 'munna': [14, 0], 'musharna': [14, 0], 'pidove': [1, 4], 'tranquill': [1, 4], 'unfezant': [1, 4], 'blitzle': [18, 0], 'zebstrika': [18, 0], 'roggenrola': [7, 0], 'boldore': [7, 0], 'gigalith': [7, 0], 'woobat': [14, 4], 'swoobat': [14, 4], 'drilbur': [15, 0], 'excadrill': [15, 3], 'audino': [1, 0], 'timburr': [17, 0], 'gurdurr': [17, 0], 'conkeldurr': [17, 0], 'tympole': [8, 0], 'palpitoad': [8, 15], 'seismitoad': [8, 15], 'throh': [17, 0], 'sawk': [17, 0], 'sewaddle': [11, 12], 'swadloon': [11, 12], 'leavanny': [11, 12], 'venipede': [11, 9], 'whirlipede': [11, 9], 'scolipede': [11, 9], 'cottonee': [12, 16], 'whimsicott': [12, 16], 'petilil': [12, 0], 'lilligant': [12, 0], 'basculin-red-striped': [8, 0], 'sandile': [15, 5], 'krokorok': [15, 5], 'krookodile': [15, 5], 'darumaka': [13, 0], 'darmanitan-standard': [13, 0], 'maractus': [12, 0], 'dwebble': [11, 7], 'crustle': [11, 7], 'scraggy': [5, 17], 'scrafty': [5, 17], 'sigilyph': [14, 4], 'yamask': [2, 0], 'cofagrigus': [2, 0], 'tirtouga': [8, 7], 'carracosta': [8, 7], 'archen': [7, 4], 'archeops': [7, 4], 'trubbish': [9, 0], 'garbodor': [9, 0], 'zorua': [5, 0], 'zoroark': [5, 0], 'minccino': [1, 0], 'cinccino': [1, 0], 'gothita': [14, 0], 'gothorita': [14, 0], 'gothitelle': [14, 0], 'solosis': [14, 0], 'duosion': [14, 0], 'reuniclus': [14, 0], 'ducklett': [8, 4], 'swanna': [8, 4], 'vanillite': [6, 0], 'vanillish': [6, 0], 'vanilluxe': [6, 0], 'deerling': [1, 12], 'sawsbuck': [1, 12], 'emolga': [18, 4], 'karrablast': [11, 0], 'escavalier': [11, 3], 'foongus': [12, 9], 'amoonguss': [12, 9], 'frillish': [8, 2], 'jellicent': [8, 2], 'alomomola': [8, 0], 'joltik': [11, 18], 'galvantula': [11, 18], 'ferroseed': [12, 3], 'ferrothorn': [12, 3], 'klink': [3, 0], 'klang': [3, 0], 'klinklang': [3, 0], 'tynamo': [18, 0], 'eelektrik': [18, 0], 'eelektross': [18, 0], 'elgyem': [14, 0], 'beheeyem': [14, 0], 'litwick': [2, 13], 'lampent': [2, 13], 'chandelure': [2, 13], 'axew': [10, 0], 'fraxure': [10, 0], 'haxorus': [10, 0], 'cubchoo': [6, 0], 'beartic': [6, 0], 'cryogonal': [6, 0], 'shelmet': [11, 0], 'accelgor': [11, 0], 'stunfisk': [15, 18], 'mienfoo': [17, 0], 'mienshao': [17, 0], 'druddigon': [10, 0], 'golett': [15, 2], 'golurk': [15, 2], 'pawniard': [5, 3], 'bisharp': [5, 3], 'bouffalant': [1, 0], 'rufflet': [1, 4], 'braviary': [1, 4], 'vullaby': [5, 4], 'mandibuzz': [5, 4], 'heatmor': [13, 0], 'durant': [11, 3], 'deino': [5, 10], 'zweilous': [5, 10], 'hydreigon': [5, 10], 'larvesta': [11, 13], 'volcarona': [11, 13], 'cobalion': [3, 17], 'terrakion': [7, 17], 'virizion': [12, 17], 'tornadus-incarnate': [4, 0], 'thundurus-incarnate': [18, 4], 'reshiram': [10, 13], 'zekrom': [10, 18], 'landorus-incarnate': [15, 4], 'kyurem': [10, 6], 'keldeo-ordinary': [8, 17], 'meloetta-aria': [1, 14], 'genesect': [11, 3], 'chespin': [12, 0], 'quilladin': [12, 0], 'chesnaught': [12, 17], 'fennekin': [13, 0], 'braixen': [13, 0], 'delphox': [13, 14], 'froakie': [8, 0], 'frogadier': [8, 0], 'greninja': [8, 5], 'bunnelby': [1, 0], 'diggersby': [1, 15], 'fletchling': [1, 4], 'fletchinder': [13, 4], 'talonflame': [13, 4], 'scatterbug': [11, 0], 'spewpa': [11, 0], 'vivillon': [11, 4], 'litleo': [13, 1], 'pyroar': [13, 1], 'flabebe': [16, 0], 'floette': [16, 0], 'florges': [16, 0], 'skiddo': [12, 0], 'gogoat': [12, 0], 'pancham': [17, 0], 'pangoro': [17, 5], 'furfrou': [1, 0], 'espurr': [14, 0], 'meowstic-male': [14, 0], 'honedge': [3, 2], 'doublade': [3, 2], 'aegislash-blade': [3, 2], 'spritzee': [16, 0], 'aromatisse': [16, 0], 'swirlix': [16, 0], 'slurpuff': [16, 0], 'inkay': [5, 14], 'malamar': [5, 14], 'binacle': [7, 8], 'barbaracle': [7, 8], 'skrelp': [9, 8], 'dragalge': [9, 10], 'clauncher': [8, 0], 'clawitzer': [8, 0], 'helioptile': [18, 1], 'heliolisk': [18, 1], 'tyrunt': [7, 10], 'tyrantrum': [7, 10], 'amaura': [7, 6], 'aurorus': [7, 6], 'sylveon': [16, 0], 'hawlucha': [17, 4], 'dedenne': [18, 16], 'carbink': [7, 16], 'goomy': [10, 0], 'sliggoo': [10, 0], 'goodra': [10, 0], 'klefki': [3, 16], 'phantump': [2, 12], 'trevenant': [2, 12], 'pumpkaboo-average': [2, 12], 'gourgeist-average': [2, 12], 'bergmite': [6, 0], 'avalugg': [6, 0], 'noibat': [4, 10], 'noivern': [4, 10], 'xerneas': [16, 0], 'yveltal': [5, 4], 'zygarde-50': [10, 15], 'diancie': [7, 16], 'hoopa-confined': [14, 2], 'volcanion': [13, 8], 'rowlet': [12, 4], 'dartrix': [12, 4], 'decidueye': [12, 2], 'litten': [13, 0], 'torracat': [13, 0], 'incineroar': [13, 5], 'popplio': [8, 0], 'brionne': [8, 0], 'primarina': [8, 16], 'pikipek': [1, 4], 'trumbeak': [1, 4], 'toucannon': [1, 4], 'yungoos': [1, 0], 'gumshoos': [1, 0], 'grubbin': [11, 0], 'charjabug': [11, 18], 'vikavolt': [11, 18], 'crabrawler': [17, 0], 'crabominable': [17, 6], 'oricorio-baile': [13, 4], 'cutiefly': [11, 16], 'ribombee': [11, 16], 'rockruff': [7, 0], 'lycanroc-midday': [7, 0], 'wishiwashi-solo': [8, 0], 'mareanie': [9, 8], 'toxapex': [9, 8], 'mudbray': [15, 0], 'mudsdale': [15, 0], 'dewpider': [8, 11], 'araquanid': [8, 11], 'fomantis': [12, 0], 'lurantis': [12, 0], 'morelull': [12, 16], 'shiinotic': [12, 16], 'salandit': [9, 13], 'salazzle': [9, 13], 'stufful': [1, 17], 'bewear': [1, 17], 'bounsweet': [12, 0], 'steenee': [12, 0], 'tsareena': [12, 0], 'comfey': [16, 0], 'oranguru': [1, 14], 'passimian': [17, 0], 'wimpod': [11, 8], 'golisopod': [11, 8], 'sandygast': [2, 15], 'palossand': [2, 15], 'pyukumuku': [8, 0], 'type-null': [1, 0], 'silvally': [1, 0], 'minior-meteor': [7, 4], 'komala': [1, 0], 'turtonator': [13, 10], 'togedemaru': [18, 3], 'mimikyu': [2, 16], 'bruxish': [8, 14], 'drampa': [1, 10], 'dhelmise': [2, 12], 'jangmo-o': [10, 0], 'hakamo-o': [10, 17], 'kommo-o': [10, 17], 'tapu-koko': [18, 16], 'tapu-lele': [14, 16], 'tapu-bulu': [12, 16], 'tapu-fini': [8, 16], 'cosmog': [14, 0], 'cosmoem': [14, 0], 'solgaleo': [14, 3], 'lunala': [14, 2], 'nihilego': [7, 9], 'buzzwole': [11, 17], 'pheromosa': [11, 17], 'xurkitree': [18, 0], 'celesteela': [3, 4], 'kartana': [12, 3], 'guzzlord': [5, 10], 'necrozma': [14, 0], 'magearna': [3, 16], 'marshadow': [17, 2], 'poipole': [9, 0], 'naganadel': [9, 10], 'stakataka': [7, 3], 'blacephalon': [13, 2], 'zeraora': [18, 0], 'meltan': [3, 0], 'melmetal': [3, 0]}\n"
     ]
    }
   ],
   "source": [
    "import pandas as pd\n",
    "import os\n",
    "from torch.utils.data import Dataset\n",
    "import warnings\n",
    "warnings.filterwarnings('ignore')\n",
    "\n",
    "from torch.utils.tensorboard import SummaryWriter\n",
    "writer = SummaryWriter()\n",
    "\n",
    "from PIL import Image\n",
    "import copy\n",
    "import matplotlib.pyplot as plt\n",
    "from tqdm.auto import tqdm\n",
    "import torch\n",
    "import torch.nn as nn\n",
    "import torch.optim as optim\n",
    "import torchvision.transforms as T\n",
    "from torch.utils.data import DataLoader\n",
    "\n",
    "## prepare data\n",
    "df = pd.read_csv('pokemon.csv')\n",
    "\n",
    "labels = df['Type1'].tolist()\n",
    "labels.extend(df['Type2'].tolist())\n",
    "print(len(labels))\n",
    "labels=list(set(labels))\n",
    "labels_num=len(labels)\n",
    "dict2str={}\n",
    "dict2int={}\n",
    "for i,x in enumerate(labels):\n",
    "    dict2str[i]=x\n",
    "    dict2int[x]=i\n",
    "\n",
    "print(dict2int)\n",
    "NONE=0\n",
    "while(not pd.isna(dict2str[NONE])):\n",
    "    NONE+=1\n",
    "print(NONE)\n",
    "dict_all={}\n",
    "# read df line by line\n",
    "for index, row in df.iterrows():\n",
    "    # print(row['Type1'],row['Type2'])\n",
    "    # print(dict2int[row['Type1']],dict2int[row['Type2']])\n",
    "    dict_all[row['Name']]=[dict2int[row['Type1']],dict2int[row['Type2']]]\n",
    "print(dict_all)"
   ]
  },
  {
   "cell_type": "code",
   "execution_count": 2,
   "id": "ecbaecf5-60d6-4a0e-ba2e-650c39914a21",
   "metadata": {},
   "outputs": [
    {
     "data": {
      "text/html": [
       "<div>\n",
       "<style scoped>\n",
       "    .dataframe tbody tr th:only-of-type {\n",
       "        vertical-align: middle;\n",
       "    }\n",
       "\n",
       "    .dataframe tbody tr th {\n",
       "        vertical-align: top;\n",
       "    }\n",
       "\n",
       "    .dataframe thead th {\n",
       "        text-align: right;\n",
       "    }\n",
       "</style>\n",
       "<table border=\"1\" class=\"dataframe\">\n",
       "  <thead>\n",
       "    <tr style=\"text-align: right;\">\n",
       "      <th></th>\n",
       "      <th>meowstic-male</th>\n",
       "    </tr>\n",
       "  </thead>\n",
       "  <tbody>\n",
       "    <tr>\n",
       "      <th>0</th>\n",
       "      <td>crabominable</td>\n",
       "    </tr>\n",
       "    <tr>\n",
       "      <th>1</th>\n",
       "      <td>gligar</td>\n",
       "    </tr>\n",
       "    <tr>\n",
       "      <th>2</th>\n",
       "      <td>ribombee</td>\n",
       "    </tr>\n",
       "    <tr>\n",
       "      <th>3</th>\n",
       "      <td>sharpedo</td>\n",
       "    </tr>\n",
       "    <tr>\n",
       "      <th>4</th>\n",
       "      <td>starmie</td>\n",
       "    </tr>\n",
       "  </tbody>\n",
       "</table>\n",
       "</div>"
      ],
      "text/plain": [
       "  meowstic-male\n",
       "0  crabominable\n",
       "1        gligar\n",
       "2      ribombee\n",
       "3      sharpedo\n",
       "4       starmie"
      ]
     },
     "execution_count": 2,
     "metadata": {},
     "output_type": "execute_result"
    }
   ],
   "source": [
    "df = pd.read_csv('test.csv')\n",
    "df.head()"
   ]
  },
  {
   "cell_type": "code",
   "execution_count": null,
   "id": "65a9c473-7ff3-44dd-964b-fdb9c0c066e0",
   "metadata": {},
   "outputs": [],
   "source": []
  }
 ],
 "metadata": {
  "kernelspec": {
   "display_name": "Python 3 (ipykernel)",
   "language": "python",
   "name": "python3"
  },
  "language_info": {
   "codemirror_mode": {
    "name": "ipython",
    "version": 3
   },
   "file_extension": ".py",
   "mimetype": "text/x-python",
   "name": "python",
   "nbconvert_exporter": "python",
   "pygments_lexer": "ipython3",
   "version": "3.8.17"
  }
 },
 "nbformat": 4,
 "nbformat_minor": 5
}
